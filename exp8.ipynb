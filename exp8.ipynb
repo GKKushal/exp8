# Importing necessary libraries
import numpy as np
import pandas as pd
import matplotlib.pyplot as plt
from sklearn.datasets import load_breast_cancer
from sklearn.model_selection import train_test_split
from sklearn.tree import DecisionTreeClassifier, plot_tree
from sklearn.metrics import accuracy_score, classification_report, confusion_matrix
from sklearn import tree

data = load_breast_cancer()
df = pd.DataFrame(data.data, columns= data.feature_names)
df['target'] = data.target

X = df.drop(columns=['target'])
y = df['target']

X_train, X_test, y_train, y_test = train_test_split(X, y, test_size=0.2, random_state=42)
clf = DecisionTreeClassifier()
clf.fit(X_train, y_train)
y_pred = clf.predict(X_test)

accuracy = accuracy_score(y_test, y_pred)
print(f"Accuracy: {accuracy:.2f}")
print('Classification Report:\n',classification_report(y_test, y_pred))
print('Confusion Matrix :\n',confusion_matrix(y_test, y_pred))
plt.figure(figsize=(20,10))
plot_tree(clf, feature_names=data.feature_names,class_names=data.target_names,filled=True)
plt.show()


new_sample = [X.iloc[0].tolist()]
prediction = clf.predict(new_sample)

print(f"Predicted Class for the new sample: {data.target_names[prediction[0]]}")

